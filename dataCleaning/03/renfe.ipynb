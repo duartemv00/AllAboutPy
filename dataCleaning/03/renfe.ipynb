{
 "cells": [
  {
   "cell_type": "markdown",
   "metadata": {},
   "source": [
    "# Renfe"
   ]
  },
  {
   "cell_type": "markdown",
   "metadata": {},
   "source": [
    "### Import Library"
   ]
  },
  {
   "cell_type": "code",
   "execution_count": 4,
   "metadata": {},
   "outputs": [],
   "source": [
    "import pandas as pd\n",
    "import numpy as np\n",
    "import matplotlib.pyplot as plt # Librería para la visualización de datos\n",
    "import seaborn as sns # Librería para la visualización de datos\n",
    "from sklearn.preprocessing import LabelEncoder, MinMaxScaler, OrdinalEncoder # Librería para crear modelos de ML"
   ]
  },
  {
   "cell_type": "markdown",
   "metadata": {},
   "source": [
    "### Cargar el dataset"
   ]
  },
  {
   "cell_type": "code",
   "execution_count": 9,
   "metadata": {},
   "outputs": [
    {
     "data": {
      "text/html": [
       "<div>\n",
       "<style scoped>\n",
       "    .dataframe tbody tr th:only-of-type {\n",
       "        vertical-align: middle;\n",
       "    }\n",
       "\n",
       "    .dataframe tbody tr th {\n",
       "        vertical-align: top;\n",
       "    }\n",
       "\n",
       "    .dataframe thead th {\n",
       "        text-align: right;\n",
       "    }\n",
       "</style>\n",
       "<table border=\"1\" class=\"dataframe\">\n",
       "  <thead>\n",
       "    <tr style=\"text-align: right;\">\n",
       "      <th></th>\n",
       "      <th>FECHA_CONSULTA</th>\n",
       "      <th>FECHA_INICIO</th>\n",
       "      <th>FECHA_FIN</th>\n",
       "      <th>CIUDAD_ORIGEN</th>\n",
       "      <th>CIUDAD_DESTINO</th>\n",
       "      <th>TIPO_TREN</th>\n",
       "      <th>TIPO_TARIFA</th>\n",
       "      <th>CLASE</th>\n",
       "      <th>PRECIO</th>\n",
       "    </tr>\n",
       "  </thead>\n",
       "  <tbody>\n",
       "    <tr>\n",
       "      <th>0</th>\n",
       "      <td>2019-05-25 01:43:03</td>\n",
       "      <td>2019-06-28 20:36:00</td>\n",
       "      <td>2019-06-28 23:14:00</td>\n",
       "      <td>SEVILLA</td>\n",
       "      <td>MADRID</td>\n",
       "      <td>ALVIA</td>\n",
       "      <td>Flexible</td>\n",
       "      <td>Turista</td>\n",
       "      <td>67.20</td>\n",
       "    </tr>\n",
       "    <tr>\n",
       "      <th>1</th>\n",
       "      <td>2019-06-22 13:05:11</td>\n",
       "      <td>2019-07-14 10:00:00</td>\n",
       "      <td>2019-07-14 13:10:00</td>\n",
       "      <td>BARCELONA</td>\n",
       "      <td>MADRID</td>\n",
       "      <td>AVE</td>\n",
       "      <td>Flexible</td>\n",
       "      <td>Turista</td>\n",
       "      <td>107.70</td>\n",
       "    </tr>\n",
       "    <tr>\n",
       "      <th>2</th>\n",
       "      <td>2019-04-17 06:24:03</td>\n",
       "      <td>2019-05-23 13:40:00</td>\n",
       "      <td>2019-05-23 16:10:00</td>\n",
       "      <td>SEVILLA</td>\n",
       "      <td>MADRID</td>\n",
       "      <td>AVE</td>\n",
       "      <td>Promo</td>\n",
       "      <td>Turista</td>\n",
       "      <td>47.30</td>\n",
       "    </tr>\n",
       "    <tr>\n",
       "      <th>3</th>\n",
       "      <td>2019-05-10 21:21:59</td>\n",
       "      <td>2019-05-29 14:50:00</td>\n",
       "      <td>2019-05-29 22:30:00</td>\n",
       "      <td>VALENCIA</td>\n",
       "      <td>MADRID</td>\n",
       "      <td>REGIONAL</td>\n",
       "      <td>Adulto ida</td>\n",
       "      <td>Turista</td>\n",
       "      <td>28.35</td>\n",
       "    </tr>\n",
       "    <tr>\n",
       "      <th>4</th>\n",
       "      <td>2019-05-09 19:43:37</td>\n",
       "      <td>2019-06-26 13:25:00</td>\n",
       "      <td>2019-06-26 16:24:00</td>\n",
       "      <td>MADRID</td>\n",
       "      <td>BARCELONA</td>\n",
       "      <td>AVE-TGV</td>\n",
       "      <td>Promo</td>\n",
       "      <td>Turista</td>\n",
       "      <td>66.75</td>\n",
       "    </tr>\n",
       "  </tbody>\n",
       "</table>\n",
       "</div>"
      ],
      "text/plain": [
       "        FECHA_CONSULTA         FECHA_INICIO            FECHA_FIN  \\\n",
       "0  2019-05-25 01:43:03  2019-06-28 20:36:00  2019-06-28 23:14:00   \n",
       "1  2019-06-22 13:05:11  2019-07-14 10:00:00  2019-07-14 13:10:00   \n",
       "2  2019-04-17 06:24:03  2019-05-23 13:40:00  2019-05-23 16:10:00   \n",
       "3  2019-05-10 21:21:59  2019-05-29 14:50:00  2019-05-29 22:30:00   \n",
       "4  2019-05-09 19:43:37  2019-06-26 13:25:00  2019-06-26 16:24:00   \n",
       "\n",
       "  CIUDAD_ORIGEN CIUDAD_DESTINO TIPO_TREN TIPO_TARIFA    CLASE  PRECIO  \n",
       "0       SEVILLA         MADRID     ALVIA    Flexible  Turista   67.20  \n",
       "1     BARCELONA         MADRID       AVE    Flexible  Turista  107.70  \n",
       "2       SEVILLA         MADRID       AVE       Promo  Turista   47.30  \n",
       "3      VALENCIA         MADRID  REGIONAL  Adulto ida  Turista   28.35  \n",
       "4        MADRID      BARCELONA   AVE-TGV       Promo  Turista   66.75  "
      ]
     },
     "execution_count": 9,
     "metadata": {},
     "output_type": "execute_result"
    }
   ],
   "source": [
    "data_og = pd.read_csv('renfe.csv')\n",
    "data = data_og.copy()\n",
    "data.head()"
   ]
  },
  {
   "cell_type": "code",
   "execution_count": 15,
   "metadata": {},
   "outputs": [],
   "source": [
    "target = ['PRECIO']"
   ]
  },
  {
   "cell_type": "code",
   "execution_count": 11,
   "metadata": {},
   "outputs": [
    {
     "name": "stdout",
     "output_type": "stream",
     "text": [
      "<class 'pandas.core.frame.DataFrame'>\n",
      "RangeIndex: 383568 entries, 0 to 383567\n",
      "Data columns (total 9 columns):\n",
      " #   Column          Non-Null Count   Dtype  \n",
      "---  ------          --------------   -----  \n",
      " 0   FECHA_CONSULTA  383568 non-null  object \n",
      " 1   FECHA_INICIO    383568 non-null  object \n",
      " 2   FECHA_FIN       383568 non-null  object \n",
      " 3   CIUDAD_ORIGEN   383568 non-null  object \n",
      " 4   CIUDAD_DESTINO  383568 non-null  object \n",
      " 5   TIPO_TREN       345211 non-null  object \n",
      " 6   TIPO_TARIFA     344009 non-null  object \n",
      " 7   CLASE           344000 non-null  object \n",
      " 8   PRECIO          355038 non-null  float64\n",
      "dtypes: float64(1), object(8)\n",
      "memory usage: 26.3+ MB\n"
     ]
    }
   ],
   "source": [
    "data.info()"
   ]
  },
  {
   "cell_type": "code",
   "execution_count": 12,
   "metadata": {},
   "outputs": [
    {
     "data": {
      "text/plain": [
       "(383568, 9)"
      ]
     },
     "execution_count": 12,
     "metadata": {},
     "output_type": "execute_result"
    }
   ],
   "source": [
    "data.shape"
   ]
  },
  {
   "cell_type": "code",
   "execution_count": 14,
   "metadata": {},
   "outputs": [
    {
     "name": "stdout",
     "output_type": "stream",
     "text": [
      "FECHA_CONSULTA FECHA_CONSULTA\n",
      "2019-05-27 19:00:52    13\n",
      "2019-06-02 11:01:46    13\n",
      "2019-04-14 21:28:50    12\n",
      "2019-05-22 21:01:20    12\n",
      "2019-04-15 03:06:41    11\n",
      "                       ..\n",
      "2019-08-14 22:15:14     1\n",
      "2019-08-21 22:00:24     1\n",
      "2019-05-18 15:11:44     1\n",
      "2019-06-09 17:44:39     1\n",
      "2019-05-22 01:30:11     1\n",
      "Name: count, Length: 226818, dtype: int64 /n\n",
      "FECHA_INICIO FECHA_INICIO\n",
      "2019-06-02 17:30:00    185\n",
      "2019-05-26 17:30:00    144\n",
      "2019-05-25 08:00:00    129\n",
      "2019-05-29 09:00:00    127\n",
      "2019-05-31 08:00:00    126\n",
      "                      ... \n",
      "2019-06-08 09:07:00      1\n",
      "2019-05-04 15:50:00      1\n",
      "2019-07-13 09:07:00      1\n",
      "2019-06-02 06:10:00      1\n",
      "2019-10-19 19:40:00      1\n",
      "Name: count, Length: 18161, dtype: int64 /n\n",
      "FECHA_FIN FECHA_FIN\n",
      "2019-05-30 14:20:00    111\n",
      "2019-05-28 09:20:00    106\n",
      "2019-05-28 14:20:00    104\n",
      "2019-05-27 09:20:00     99\n",
      "2019-05-30 09:20:00     96\n",
      "                      ... \n",
      "2019-10-17 18:54:00      1\n",
      "2019-04-30 21:48:00      1\n",
      "2019-10-04 09:20:00      1\n",
      "2019-09-25 08:40:00      1\n",
      "2019-07-13 16:14:00      1\n",
      "Name: count, Length: 23200, dtype: int64 /n\n",
      "CIUDAD_ORIGEN CIUDAD_ORIGEN\n",
      "MADRID        191663\n",
      "BARCELONA      61653\n",
      "SEVILLA        60783\n",
      "VALENCIA       53620\n",
      "PONFERRADA     15849\n",
      "Name: count, dtype: int64 /n\n",
      "CIUDAD_DESTINO CIUDAD_DESTINO\n",
      "MADRID        191905\n",
      "BARCELONA      64052\n",
      "SEVILLA        60617\n",
      "VALENCIA       58091\n",
      "PONFERRADA      8903\n",
      "Name: count, dtype: int64 /n\n",
      "TIPO_TREN TIPO_TREN\n",
      "AVE          236293\n",
      "ALVIA         27231\n",
      "INTERCITY     17846\n",
      "REGIONAL      16817\n",
      "AV City        9754\n",
      "MD-LD          7475\n",
      "LD             5906\n",
      "AVE-TGV        4593\n",
      "R. EXPRES      4165\n",
      "TRENHOTEL      3956\n",
      "AVE-LD         3506\n",
      "AVE-MD         2955\n",
      "LD-MD          2793\n",
      "MD-AVE          871\n",
      "MD              548\n",
      "LD-AVE          502\n",
      "Name: count, dtype: int64 /n\n",
      "TIPO_TARIFA TIPO_TARIFA\n",
      "Promo                      239847\n",
      "Flexible                    74144\n",
      "Adulto ida                  21624\n",
      "Promo +                      8222\n",
      "COD.PROMOCIONAL               148\n",
      "Individual-Flexible            11\n",
      "Mesa                            8\n",
      "Doble Familiar-Flexible         3\n",
      "4x100                           1\n",
      "Grupos Ida                      1\n",
      "Name: count, dtype: int64 /n\n",
      "CLASE CLASE\n",
      "Turista                     261745\n",
      "Preferente                   33963\n",
      "Turista Plus                 24348\n",
      "Turista con enlace           20867\n",
      "TuristaSólo plaza H           2480\n",
      "PreferenteSólo plaza H         317\n",
      "Cama Turista                   263\n",
      "Cama G. Clase                   15\n",
      "Turista PlusSólo plaza H         2\n",
      "Name: count, dtype: int64 /n\n",
      "PRECIO PRECIO\n",
      "85.10     18629\n",
      "28.35     18409\n",
      "76.30     17566\n",
      "107.70    13762\n",
      "60.30     12476\n",
      "          ...  \n",
      "52.30         1\n",
      "83.49         1\n",
      "90.45         1\n",
      "103.30        1\n",
      "49.14         1\n",
      "Name: count, Length: 292, dtype: int64 /n\n"
     ]
    }
   ],
   "source": [
    "for i in data.columns:\n",
    "    print(i, data[i].value_counts(),'/n')"
   ]
  }
 ],
 "metadata": {
  "kernelspec": {
   "display_name": "venv",
   "language": "python",
   "name": "python3"
  },
  "language_info": {
   "codemirror_mode": {
    "name": "ipython",
    "version": 3
   },
   "file_extension": ".py",
   "mimetype": "text/x-python",
   "name": "python",
   "nbconvert_exporter": "python",
   "pygments_lexer": "ipython3",
   "version": "3.13.2"
  }
 },
 "nbformat": 4,
 "nbformat_minor": 2
}
